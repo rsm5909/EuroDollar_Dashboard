{
 "cells": [
  {
   "cell_type": "code",
   "execution_count": 1,
   "metadata": {},
   "outputs": [],
   "source": [
    "\"\"\"\n",
    "NOTES: \n",
    "Requirements \n",
    "    -> Plotly Account to make charts (free version may work but max dataset length is limited)\n",
    "    -> Quandl Account & API Key \n",
    "        -> Link to Quandl dataset https://www.quandl.com/data/CHRIS-Wiki-Continuous-Futures\n",
    "\"\"\"\n",
    "\n",
    "# imports (not all are used)\n",
    "import pandas as pd\n",
    "import numpy as np\n",
    "import matplotlib\n",
    "import cufflinks as cf\n",
    "import plotly\n",
    "import plotly.plotly as py\n",
    "import plotly.graph_objs as go\n",
    "import quandl\n",
    "from datetime import datetime\n",
    "\n",
    "# EuroDollar prices from quandl\n"
   ]
  },
  {
   "cell_type": "code",
   "execution_count": 2,
   "metadata": {},
   "outputs": [],
   "source": [
    "# weekly Euro$ price data from '94 - November '18\n",
    "xl = pd.read_excel('EuroDollarHistorical.xlsx', sheet_name='Sheet2', header=0, index_col='Date')\n",
    "# first 11 contract maturities \n",
    "xl = xl.loc[:, 'ED1 Comdty':'ED11 Comdty']"
   ]
  },
  {
   "cell_type": "code",
   "execution_count": 3,
   "metadata": {},
   "outputs": [],
   "source": [
    "# end date to be used\n",
    "t = datetime.today().strftime('%Y-%m-%d')\n",
    "# list containing specific ticker dataframes\n",
    "ed = []\n",
    "for x in range(1,len(xl.columns)+1):\n",
    "    ticker = \"CHRIS/CME_ED{x}\".format(x=x)\n",
    "    EDx = quandl.get(ticker, start_date='2018-11-17', end_date=t, collapse='weekly')['Last']\n",
    "    ed.append(EDx)\n",
    "# convert list of lists to dataframe\n",
    "ED = pd.concat(ed, axis=1)\n",
    "# match col names\n",
    "ED.columns = xl.columns\n",
    "# append final list\n",
    "xl = xl.append(ED)"
   ]
  },
  {
   "cell_type": "code",
   "execution_count": 4,
   "metadata": {},
   "outputs": [],
   "source": [
    "# convert contract prices to yields\n",
    "yld = xl.apply(lambda x : (100-x)/100)"
   ]
  },
  {
   "cell_type": "code",
   "execution_count": 5,
   "metadata": {},
   "outputs": [
    {
     "data": {
      "text/plain": [
       "ED1 Comdty     98.095\n",
       "ED2 Comdty     98.280\n",
       "ED3 Comdty     98.380\n",
       "ED4 Comdty     98.460\n",
       "ED5 Comdty     98.465\n",
       "ED6 Comdty     98.540\n",
       "ED7 Comdty     98.545\n",
       "ED8 Comdty     98.545\n",
       "ED9 Comdty     98.510\n",
       "ED10 Comdty    98.510\n",
       "ED11 Comdty    98.485\n",
       "Name: 2019-12-01 00:00:00, dtype: float64"
      ]
     },
     "execution_count": 5,
     "metadata": {},
     "output_type": "execute_result"
    }
   ],
   "source": [
    "xl.iloc[-2,:]"
   ]
  },
  {
   "cell_type": "code",
   "execution_count": 6,
   "metadata": {},
   "outputs": [],
   "source": [
    "# calculate yield spread between consecutive maturities\n",
    "sprd = yld.diff(axis=1)\n",
    "# [sprd_chg] is the nominal weekly change in yield\n",
    "sprd_chg = sprd.diff(axis=0)"
   ]
  },
  {
   "cell_type": "code",
   "execution_count": 7,
   "metadata": {},
   "outputs": [
    {
     "data": {
      "text/html": [
       "<div>\n",
       "<style scoped>\n",
       "    .dataframe tbody tr th:only-of-type {\n",
       "        vertical-align: middle;\n",
       "    }\n",
       "\n",
       "    .dataframe tbody tr th {\n",
       "        vertical-align: top;\n",
       "    }\n",
       "\n",
       "    .dataframe thead th {\n",
       "        text-align: right;\n",
       "    }\n",
       "</style>\n",
       "<table border=\"1\" class=\"dataframe\">\n",
       "  <thead>\n",
       "    <tr style=\"text-align: right;\">\n",
       "      <th></th>\n",
       "      <th>ED1 Comdty</th>\n",
       "      <th>ED2 Comdty</th>\n",
       "      <th>ED3 Comdty</th>\n",
       "      <th>ED4 Comdty</th>\n",
       "      <th>ED5 Comdty</th>\n",
       "      <th>ED6 Comdty</th>\n",
       "      <th>ED7 Comdty</th>\n",
       "      <th>ED8 Comdty</th>\n",
       "      <th>ED9 Comdty</th>\n",
       "      <th>ED10 Comdty</th>\n",
       "      <th>ED11 Comdty</th>\n",
       "    </tr>\n",
       "    <tr>\n",
       "      <th>Date</th>\n",
       "      <th></th>\n",
       "      <th></th>\n",
       "      <th></th>\n",
       "      <th></th>\n",
       "      <th></th>\n",
       "      <th></th>\n",
       "      <th></th>\n",
       "      <th></th>\n",
       "      <th></th>\n",
       "      <th></th>\n",
       "      <th></th>\n",
       "    </tr>\n",
       "  </thead>\n",
       "  <tbody>\n",
       "    <tr>\n",
       "      <th>1994-01-07</th>\n",
       "      <td>NaN</td>\n",
       "      <td>NaN</td>\n",
       "      <td>NaN</td>\n",
       "      <td>NaN</td>\n",
       "      <td>NaN</td>\n",
       "      <td>NaN</td>\n",
       "      <td>NaN</td>\n",
       "      <td>NaN</td>\n",
       "      <td>NaN</td>\n",
       "      <td>NaN</td>\n",
       "      <td>NaN</td>\n",
       "    </tr>\n",
       "    <tr>\n",
       "      <th>1994-01-14</th>\n",
       "      <td>NaN</td>\n",
       "      <td>0.0004</td>\n",
       "      <td>0.0002</td>\n",
       "      <td>0.0002</td>\n",
       "      <td>0.0001</td>\n",
       "      <td>0.0001</td>\n",
       "      <td>0.0</td>\n",
       "      <td>-0.0001</td>\n",
       "      <td>-1.526557e-16</td>\n",
       "      <td>1.457168e-16</td>\n",
       "      <td>-0.0001</td>\n",
       "    </tr>\n",
       "  </tbody>\n",
       "</table>\n",
       "</div>"
      ],
      "text/plain": [
       "            ED1 Comdty  ED2 Comdty  ED3 Comdty  ED4 Comdty  ED5 Comdty  \\\n",
       "Date                                                                     \n",
       "1994-01-07         NaN         NaN         NaN         NaN         NaN   \n",
       "1994-01-14         NaN      0.0004      0.0002      0.0002      0.0001   \n",
       "\n",
       "            ED6 Comdty  ED7 Comdty  ED8 Comdty    ED9 Comdty   ED10 Comdty  \\\n",
       "Date                                                                         \n",
       "1994-01-07         NaN         NaN         NaN           NaN           NaN   \n",
       "1994-01-14      0.0001         0.0     -0.0001 -1.526557e-16  1.457168e-16   \n",
       "\n",
       "            ED11 Comdty  \n",
       "Date                     \n",
       "1994-01-07          NaN  \n",
       "1994-01-14      -0.0001  "
      ]
     },
     "execution_count": 7,
     "metadata": {},
     "output_type": "execute_result"
    }
   ],
   "source": [
    "sprd_chg[:2]"
   ]
  },
  {
   "cell_type": "code",
   "execution_count": 8,
   "metadata": {},
   "outputs": [],
   "source": [
    "# create [lbl] to hold formatted col headers\n",
    "lbl = []\n",
    "for l in range(0, len(sprd_chg.columns)):\n",
    "    if l < len(sprd_chg.columns)-1:\n",
    "        row = sprd_chg.columns[l+1] + \" - \" + sprd_chg.columns[l]\n",
    "        lbl.append(row)"
   ]
  },
  {
   "cell_type": "code",
   "execution_count": 9,
   "metadata": {},
   "outputs": [
    {
     "data": {
      "text/html": [
       "<div>\n",
       "<style scoped>\n",
       "    .dataframe tbody tr th:only-of-type {\n",
       "        vertical-align: middle;\n",
       "    }\n",
       "\n",
       "    .dataframe tbody tr th {\n",
       "        vertical-align: top;\n",
       "    }\n",
       "\n",
       "    .dataframe thead tr th {\n",
       "        text-align: left;\n",
       "    }\n",
       "\n",
       "    .dataframe thead tr:last-of-type th {\n",
       "        text-align: right;\n",
       "    }\n",
       "</style>\n",
       "<table border=\"1\" class=\"dataframe\">\n",
       "  <thead>\n",
       "    <tr>\n",
       "      <th></th>\n",
       "      <th>ED2 Comdty - ED1 Comdty</th>\n",
       "      <th>ED3 Comdty - ED2 Comdty</th>\n",
       "      <th>ED4 Comdty - ED3 Comdty</th>\n",
       "      <th>ED5 Comdty - ED4 Comdty</th>\n",
       "      <th>ED6 Comdty - ED5 Comdty</th>\n",
       "      <th>ED7 Comdty - ED6 Comdty</th>\n",
       "      <th>ED8 Comdty - ED7 Comdty</th>\n",
       "      <th>ED9 Comdty - ED8 Comdty</th>\n",
       "      <th>ED10 Comdty - ED9 Comdty</th>\n",
       "      <th>ED11 Comdty - ED10 Comdty</th>\n",
       "    </tr>\n",
       "    <tr>\n",
       "      <th>Date</th>\n",
       "      <th></th>\n",
       "      <th></th>\n",
       "      <th></th>\n",
       "      <th></th>\n",
       "      <th></th>\n",
       "      <th></th>\n",
       "      <th></th>\n",
       "      <th></th>\n",
       "      <th></th>\n",
       "      <th></th>\n",
       "    </tr>\n",
       "  </thead>\n",
       "  <tbody>\n",
       "    <tr>\n",
       "      <th>1994-01-14</th>\n",
       "      <td>0.0004</td>\n",
       "      <td>2.000000e-04</td>\n",
       "      <td>0.0002</td>\n",
       "      <td>0.0001</td>\n",
       "      <td>0.0001</td>\n",
       "      <td>0.000000e+00</td>\n",
       "      <td>-0.0001</td>\n",
       "      <td>-1.526557e-16</td>\n",
       "      <td>1.457168e-16</td>\n",
       "      <td>-0.0001</td>\n",
       "    </tr>\n",
       "    <tr>\n",
       "      <th>1994-01-21</th>\n",
       "      <td>-0.0002</td>\n",
       "      <td>-1.387779e-16</td>\n",
       "      <td>-0.0003</td>\n",
       "      <td>-0.0001</td>\n",
       "      <td>0.0000</td>\n",
       "      <td>-6.938894e-18</td>\n",
       "      <td>-0.0001</td>\n",
       "      <td>1.457168e-16</td>\n",
       "      <td>0.000000e+00</td>\n",
       "      <td>0.0001</td>\n",
       "    </tr>\n",
       "  </tbody>\n",
       "</table>\n",
       "</div>"
      ],
      "text/plain": [
       "           ED2 Comdty - ED1 Comdty ED3 Comdty - ED2 Comdty  \\\n",
       "Date                                                         \n",
       "1994-01-14                  0.0004            2.000000e-04   \n",
       "1994-01-21                 -0.0002           -1.387779e-16   \n",
       "\n",
       "           ED4 Comdty - ED3 Comdty ED5 Comdty - ED4 Comdty  \\\n",
       "Date                                                         \n",
       "1994-01-14                  0.0002                  0.0001   \n",
       "1994-01-21                 -0.0003                 -0.0001   \n",
       "\n",
       "           ED6 Comdty - ED5 Comdty ED7 Comdty - ED6 Comdty  \\\n",
       "Date                                                         \n",
       "1994-01-14                  0.0001            0.000000e+00   \n",
       "1994-01-21                  0.0000           -6.938894e-18   \n",
       "\n",
       "           ED8 Comdty - ED7 Comdty ED9 Comdty - ED8 Comdty  \\\n",
       "Date                                                         \n",
       "1994-01-14                 -0.0001           -1.526557e-16   \n",
       "1994-01-21                 -0.0001            1.457168e-16   \n",
       "\n",
       "           ED10 Comdty - ED9 Comdty ED11 Comdty - ED10 Comdty  \n",
       "Date                                                           \n",
       "1994-01-14             1.457168e-16                   -0.0001  \n",
       "1994-01-21             0.000000e+00                    0.0001  "
      ]
     },
     "execution_count": 9,
     "metadata": {},
     "output_type": "execute_result"
    }
   ],
   "source": [
    "# drop 1st column and row in [sprd_chg]\n",
    "sprd_chg = sprd_chg.drop('ED1 Comdty', axis=1)\n",
    "sprd_chg.columns = [lbl]\n",
    "sprd_chg = sprd_chg[1:]\n",
    "sprd_chg[:2]"
   ]
  },
  {
   "cell_type": "code",
   "execution_count": 10,
   "metadata": {},
   "outputs": [
    {
     "data": {
      "text/html": [
       "<div>\n",
       "<style scoped>\n",
       "    .dataframe tbody tr th:only-of-type {\n",
       "        vertical-align: middle;\n",
       "    }\n",
       "\n",
       "    .dataframe tbody tr th {\n",
       "        vertical-align: top;\n",
       "    }\n",
       "\n",
       "    .dataframe thead tr th {\n",
       "        text-align: left;\n",
       "    }\n",
       "\n",
       "    .dataframe thead tr:last-of-type th {\n",
       "        text-align: right;\n",
       "    }\n",
       "</style>\n",
       "<table border=\"1\" class=\"dataframe\">\n",
       "  <thead>\n",
       "    <tr>\n",
       "      <th></th>\n",
       "      <th>ED2 Comdty - ED1 Comdty</th>\n",
       "      <th>ED3 Comdty - ED2 Comdty</th>\n",
       "      <th>ED4 Comdty - ED3 Comdty</th>\n",
       "      <th>ED5 Comdty - ED4 Comdty</th>\n",
       "      <th>ED6 Comdty - ED5 Comdty</th>\n",
       "      <th>ED7 Comdty - ED6 Comdty</th>\n",
       "      <th>ED8 Comdty - ED7 Comdty</th>\n",
       "      <th>ED9 Comdty - ED8 Comdty</th>\n",
       "      <th>ED10 Comdty - ED9 Comdty</th>\n",
       "      <th>ED11 Comdty - ED10 Comdty</th>\n",
       "    </tr>\n",
       "    <tr>\n",
       "      <th>Date</th>\n",
       "      <th></th>\n",
       "      <th></th>\n",
       "      <th></th>\n",
       "      <th></th>\n",
       "      <th></th>\n",
       "      <th></th>\n",
       "      <th></th>\n",
       "      <th></th>\n",
       "      <th></th>\n",
       "      <th></th>\n",
       "    </tr>\n",
       "  </thead>\n",
       "  <tbody>\n",
       "    <tr>\n",
       "      <th>1994-01-07</th>\n",
       "      <td>0.0027</td>\n",
       "      <td>0.0029</td>\n",
       "      <td>0.0039</td>\n",
       "      <td>0.0014</td>\n",
       "      <td>0.0023</td>\n",
       "      <td>0.002</td>\n",
       "      <td>0.0031</td>\n",
       "      <td>0.0005</td>\n",
       "      <td>0.0017</td>\n",
       "      <td>0.0014</td>\n",
       "    </tr>\n",
       "    <tr>\n",
       "      <th>1994-01-14</th>\n",
       "      <td>0.0031</td>\n",
       "      <td>0.0031</td>\n",
       "      <td>0.0041</td>\n",
       "      <td>0.0015</td>\n",
       "      <td>0.0024</td>\n",
       "      <td>0.002</td>\n",
       "      <td>0.0030</td>\n",
       "      <td>0.0005</td>\n",
       "      <td>0.0017</td>\n",
       "      <td>0.0013</td>\n",
       "    </tr>\n",
       "  </tbody>\n",
       "</table>\n",
       "</div>"
      ],
      "text/plain": [
       "           ED2 Comdty - ED1 Comdty ED3 Comdty - ED2 Comdty  \\\n",
       "Date                                                         \n",
       "1994-01-07                  0.0027                  0.0029   \n",
       "1994-01-14                  0.0031                  0.0031   \n",
       "\n",
       "           ED4 Comdty - ED3 Comdty ED5 Comdty - ED4 Comdty  \\\n",
       "Date                                                         \n",
       "1994-01-07                  0.0039                  0.0014   \n",
       "1994-01-14                  0.0041                  0.0015   \n",
       "\n",
       "           ED6 Comdty - ED5 Comdty ED7 Comdty - ED6 Comdty  \\\n",
       "Date                                                         \n",
       "1994-01-07                  0.0023                   0.002   \n",
       "1994-01-14                  0.0024                   0.002   \n",
       "\n",
       "           ED8 Comdty - ED7 Comdty ED9 Comdty - ED8 Comdty  \\\n",
       "Date                                                         \n",
       "1994-01-07                  0.0031                  0.0005   \n",
       "1994-01-14                  0.0030                  0.0005   \n",
       "\n",
       "           ED10 Comdty - ED9 Comdty ED11 Comdty - ED10 Comdty  \n",
       "Date                                                           \n",
       "1994-01-07                   0.0017                    0.0014  \n",
       "1994-01-14                   0.0017                    0.0013  "
      ]
     },
     "execution_count": 10,
     "metadata": {},
     "output_type": "execute_result"
    }
   ],
   "source": [
    "# drop 1st column in [sprd]\n",
    "sprd = sprd.drop('ED1 Comdty', axis=1)\n",
    "sprd.columns= [lbl]\n",
    "sprd[:2]"
   ]
  },
  {
   "cell_type": "code",
   "execution_count": 11,
   "metadata": {},
   "outputs": [],
   "source": [
    "# weekly average spread change\n",
    "avgsc = sprd_chg.mean(axis=1)*10000\n",
    "# weekly average spread\n",
    "avgs = pd.DataFrame(sprd.mean(axis=1)*10000)\n",
    "# combine prior 2 avgs into [sc_stats]\n",
    "sc_stats = pd.concat([avgsc, avgs], axis=1)\n",
    "sc_stats.columns = ['WeeklyChg', 'Avg']\n",
    "# sprd_chg expressed in %\n",
    "pct_chg = pd.DataFrame(sc_stats['Avg'].pct_change())\n",
    "pct_chg.columns = ['PctChange']"
   ]
  },
  {
   "cell_type": "code",
   "execution_count": 12,
   "metadata": {},
   "outputs": [],
   "source": [
    "# take the sum of all spreads and filter values where x<0\n",
    "sums = pd.DataFrame(sprd.sum(axis=1), columns=['Sum'])\n",
    "mask = (lambda x : x<0)\n",
    "isInv = sprd[mask]"
   ]
  },
  {
   "cell_type": "code",
   "execution_count": 13,
   "metadata": {},
   "outputs": [],
   "source": [
    "ED_pct = pd.DataFrame(xl.pct_change())"
   ]
  },
  {
   "cell_type": "code",
   "execution_count": 14,
   "metadata": {},
   "outputs": [
    {
     "data": {
      "text/html": [
       "<div>\n",
       "<style scoped>\n",
       "    .dataframe tbody tr th:only-of-type {\n",
       "        vertical-align: middle;\n",
       "    }\n",
       "\n",
       "    .dataframe tbody tr th {\n",
       "        vertical-align: top;\n",
       "    }\n",
       "\n",
       "    .dataframe thead th {\n",
       "        text-align: right;\n",
       "    }\n",
       "</style>\n",
       "<table border=\"1\" class=\"dataframe\">\n",
       "  <thead>\n",
       "    <tr style=\"text-align: right;\">\n",
       "      <th></th>\n",
       "      <th>ED1 Comdty</th>\n",
       "      <th>ED2 Comdty</th>\n",
       "      <th>ED3 Comdty</th>\n",
       "      <th>ED4 Comdty</th>\n",
       "      <th>ED5 Comdty</th>\n",
       "      <th>ED6 Comdty</th>\n",
       "      <th>ED7 Comdty</th>\n",
       "      <th>ED8 Comdty</th>\n",
       "      <th>ED9 Comdty</th>\n",
       "      <th>ED10 Comdty</th>\n",
       "      <th>ED11 Comdty</th>\n",
       "    </tr>\n",
       "    <tr>\n",
       "      <th>Date</th>\n",
       "      <th></th>\n",
       "      <th></th>\n",
       "      <th></th>\n",
       "      <th></th>\n",
       "      <th></th>\n",
       "      <th></th>\n",
       "      <th></th>\n",
       "      <th></th>\n",
       "      <th></th>\n",
       "      <th></th>\n",
       "      <th></th>\n",
       "    </tr>\n",
       "  </thead>\n",
       "  <tbody>\n",
       "    <tr>\n",
       "      <th>2019-12-01</th>\n",
       "      <td>0.000127</td>\n",
       "      <td>-0.000153</td>\n",
       "      <td>-0.000152</td>\n",
       "      <td>-0.000152</td>\n",
       "      <td>-0.000152</td>\n",
       "      <td>-0.000152</td>\n",
       "      <td>-0.000152</td>\n",
       "      <td>-0.000203</td>\n",
       "      <td>-0.000203</td>\n",
       "      <td>-0.000203</td>\n",
       "      <td>-0.000305</td>\n",
       "    </tr>\n",
       "    <tr>\n",
       "      <th>2019-12-08</th>\n",
       "      <td>0.000178</td>\n",
       "      <td>0.000102</td>\n",
       "      <td>-0.000051</td>\n",
       "      <td>-0.000203</td>\n",
       "      <td>-0.000254</td>\n",
       "      <td>-0.000406</td>\n",
       "      <td>-0.000507</td>\n",
       "      <td>-0.000558</td>\n",
       "      <td>-0.000609</td>\n",
       "      <td>-0.000660</td>\n",
       "      <td>-0.000660</td>\n",
       "    </tr>\n",
       "  </tbody>\n",
       "</table>\n",
       "</div>"
      ],
      "text/plain": [
       "            ED1 Comdty  ED2 Comdty  ED3 Comdty  ED4 Comdty  ED5 Comdty  \\\n",
       "Date                                                                     \n",
       "2019-12-01    0.000127   -0.000153   -0.000152   -0.000152   -0.000152   \n",
       "2019-12-08    0.000178    0.000102   -0.000051   -0.000203   -0.000254   \n",
       "\n",
       "            ED6 Comdty  ED7 Comdty  ED8 Comdty  ED9 Comdty  ED10 Comdty  \\\n",
       "Date                                                                      \n",
       "2019-12-01   -0.000152   -0.000152   -0.000203   -0.000203    -0.000203   \n",
       "2019-12-08   -0.000406   -0.000507   -0.000558   -0.000609    -0.000660   \n",
       "\n",
       "            ED11 Comdty  \n",
       "Date                     \n",
       "2019-12-01    -0.000305  \n",
       "2019-12-08    -0.000660  "
      ]
     },
     "execution_count": 14,
     "metadata": {},
     "output_type": "execute_result"
    }
   ],
   "source": [
    "ED_pct[-2:]"
   ]
  },
  {
   "cell_type": "code",
   "execution_count": 15,
   "metadata": {},
   "outputs": [],
   "source": [
    "avgprc = pd.DataFrame(xl.mean(axis=1))\n",
    "avgprc.columns = ['AvgPx']\n",
    "avgprc['ChgPx'] = avgprc['AvgPx'].pct_change()\n",
    "sigma = avgprc['AvgPx'].describe()[2]\n",
    "roll = avgprc['AvgPx'].rolling(window=52, min_periods=2, axis=0).mean()"
   ]
  },
  {
   "cell_type": "code",
   "execution_count": 16,
   "metadata": {},
   "outputs": [],
   "source": [
    "contangoSum = pd.DataFrame(isInv.sum(axis=1), columns=['contangoSum'])"
   ]
  },
  {
   "cell_type": "code",
   "execution_count": 17,
   "metadata": {},
   "outputs": [
    {
     "name": "stderr",
     "output_type": "stream",
     "text": [
      "/Library/Frameworks/Python.framework/Versions/3.7/lib/python3.7/site-packages/IPython/core/display.py:689: UserWarning:\n",
      "\n",
      "Consider using IPython.display.IFrame instead\n",
      "\n"
     ]
    },
    {
     "data": {
      "text/html": [
       "<iframe id=\"igraph\" scrolling=\"no\" style=\"border:none;\" seamless=\"seamless\" src=\"https://plot.ly/~rsm5909/89.embed\" height=\"525px\" width=\"100%\"></iframe>"
      ],
      "text/plain": [
       "<chart_studio.tools.PlotlyDisplay object>"
      ]
     },
     "execution_count": 17,
     "metadata": {},
     "output_type": "execute_result"
    }
   ],
   "source": [
    "trace0 = go.Scatter(\n",
    "    name='Avg PX',\n",
    "    x=sc_stats.index,\n",
    "    y=avgprc.AvgPx,\n",
    "    yaxis='y2'\n",
    "    )\n",
    "trace1 = go.Scatter(\n",
    "    name='52 Week MA',\n",
    "    x=sc_stats.index,\n",
    "    y=roll,\n",
    "    yaxis='y2'\n",
    "    )\n",
    "trace2 = go.Scatter(\n",
    "    name='Avg Spread',\n",
    "    x=sc_stats.index,\n",
    "    y=sc_stats.Avg\n",
    "    )\n",
    "trace3 = go.Bar(\n",
    "    name='PX %Chg',\n",
    "    x=sc_stats.index,\n",
    "    y=avgprc.ChgPx,\n",
    "    yaxis='y3'\n",
    "    )\n",
    "\n",
    "\n",
    "layout = dict()\n",
    "data=[trace0, trace1, trace2, trace3]\n",
    "fig=dict(data=data, layout=layout)\n",
    "fig['layout']['title'] = 'EuroDollar Consecutive Calendar Spreads'\n",
    "fig['layout']['yaxis'] = dict(domain=[0.3,0.6], ticksuffix='bps', title='Average Spread')\n",
    "fig['layout']['yaxis2'] = dict(domain=[0.6,1.0], tickprefix='$', title='Avg PX')\n",
    "fig['layout']['yaxis3'] = dict(domain=[0.0,0.3], title='PX %Chg', tickformat='.02%')\n",
    "fig['layout']['xaxis'] = dict(anchor='y3', title='Date')\n",
    "fig['layout']['xaxis2'] = dict(overlaying='x', side='top', layer='above traces', range=[0.25,0])\n",
    "fig['layout']['colorway'] = ['#2E91E5','#1CA71C','#FB0D0D','#DA16FF','#E15F99']\n",
    "fig['layout']['font'] = dict(color='rgb(0,0,0)', family='Old Standard TT', size=13)\n",
    "py.iplot(fig, filename='Average spreads vs Change')\n",
    "\n"
   ]
  },
  {
   "cell_type": "code",
   "execution_count": 18,
   "metadata": {},
   "outputs": [],
   "source": [
    "contangoSum2 = contangoSum*10000"
   ]
  },
  {
   "cell_type": "code",
   "execution_count": 19,
   "metadata": {},
   "outputs": [
    {
     "data": {
      "text/html": [
       "<iframe id=\"igraph\" scrolling=\"no\" style=\"border:none;\" seamless=\"seamless\" src=\"https://plot.ly/~rsm5909/106.embed\" height=\"525px\" width=\"100%\"></iframe>"
      ],
      "text/plain": [
       "<chart_studio.tools.PlotlyDisplay object>"
      ]
     },
     "execution_count": 19,
     "metadata": {},
     "output_type": "execute_result"
    }
   ],
   "source": [
    "trace = go.Bar(\n",
    "    x=sc_stats.index, \n",
    "    y=contangoSum2['contangoSum'],\n",
    "    name='ContangoSum'\n",
    "    )\n",
    "layout = go.Layout(\n",
    "    yaxis=dict(ticksuffix='bps'),\n",
    "    title='CME EuroDollar Futures (mty 1:10) Cumulative Inversion',\n",
    "    font=dict(color='rgb(0,0,0)', family='Old Standard TT', size=13)\n",
    "    )\n",
    "data = [trace]\n",
    "fig = go.Figure(data=data, layout=layout)\n",
    "py.iplot(fig, filename='ContangoSum')"
   ]
  },
  {
   "cell_type": "code",
   "execution_count": 20,
   "metadata": {},
   "outputs": [],
   "source": [
    "isInv2=isInv*10000"
   ]
  },
  {
   "cell_type": "code",
   "execution_count": 21,
   "metadata": {},
   "outputs": [
    {
     "data": {
      "text/html": [
       "<iframe id=\"igraph\" scrolling=\"no\" style=\"border:none;\" seamless=\"seamless\" src=\"https://plot.ly/~rsm5909/108.embed\" height=\"525px\" width=\"100%\"></iframe>"
      ],
      "text/plain": [
       "<chart_studio.tools.PlotlyDisplay object>"
      ]
     },
     "execution_count": 21,
     "metadata": {},
     "output_type": "execute_result"
    }
   ],
   "source": [
    "trace = [go.Bar(\n",
    "    x=sc_stats.index, \n",
    "    y=isInv2[col], \n",
    "    name=str(col)\n",
    ")for col in isInv.columns]\n",
    "data = trace\n",
    "layout = go.Layout(\n",
    "    barmode='stack',\n",
    "    yaxis=dict(ticksuffix='bps'),\n",
    "    title='CME EuroDollar Futures (mty 1:10) Inverted Contracts',\n",
    "    font=dict(color='rgb(0,0,0)', family='Old Standard TT', size=13),\n",
    "    legend=dict(orientation='h', font=dict(color='rgb(0,0,0)', family='Old Standard TT', size=10))\n",
    "    )\n",
    "fig = go.Figure(data=data, layout=layout)\n",
    "py.iplot(fig, filename='InversionByContract')"
   ]
  },
  {
   "cell_type": "code",
   "execution_count": 22,
   "metadata": {},
   "outputs": [
    {
     "data": {
      "text/html": [
       "<iframe id=\"igraph\" scrolling=\"no\" style=\"border:none;\" seamless=\"seamless\" src=\"https://plot.ly/~rsm5909/103.embed\" height=\"525px\" width=\"100%\"></iframe>"
      ],
      "text/plain": [
       "<chart_studio.tools.PlotlyDisplay object>"
      ]
     },
     "execution_count": 22,
     "metadata": {},
     "output_type": "execute_result"
    }
   ],
   "source": [
    "trace0 = go.Scatter(\n",
    "    name='Last',\n",
    "    x=yld.columns,\n",
    "    y=yld.iloc[-1].values,\n",
    "    mode = 'lines+markers'\n",
    "    )\n",
    "\n",
    "trace1 = go.Scatter(\n",
    "    name='1 Week',\n",
    "    x=yld.columns,\n",
    "    y=yld.iloc[-2].values,\n",
    "    mode = 'lines+markers'\n",
    "    )\n",
    "\n",
    "trace2 = go.Scatter(\n",
    "    name='1 Month',\n",
    "    x=yld.columns,\n",
    "    y=yld.iloc[-4].values,\n",
    "    mode = 'lines+markers'\n",
    "    )\n",
    "\n",
    "trace3 = go.Scatter(\n",
    "    name='1 Year',\n",
    "    x=yld.columns,\n",
    "    y=yld.iloc[-52].values,\n",
    "    mode = 'lines+markers'\n",
    "    )\n",
    "\n",
    "trace4 = go.Scatter(\n",
    "    name='10 Years',\n",
    "    x=yld.columns,\n",
    "    y=yld.iloc[-520].values,\n",
    "    mode = 'lines+markers'\n",
    "    )\n",
    "\n",
    "layout = go.Layout(\n",
    "    title='EuroDollar Curve',\n",
    "    font=dict(color='rgb(0,0,0)', family='Old Standard TT', size=13),\n",
    "    yaxis=dict(tickformat='.2%')\n",
    "\n",
    "    )\n",
    "\n",
    "data = [trace0,trace1,trace2,trace3,trace4]\n",
    "fig = go.Figure(data=data, layout=layout)\n",
    "py.iplot(fig, filename='ED_Curve')"
   ]
  },
  {
   "cell_type": "code",
   "execution_count": null,
   "metadata": {},
   "outputs": [],
   "source": []
  },
  {
   "cell_type": "code",
   "execution_count": null,
   "metadata": {},
   "outputs": [],
   "source": []
  },
  {
   "cell_type": "code",
   "execution_count": null,
   "metadata": {},
   "outputs": [],
   "source": []
  },
  {
   "cell_type": "code",
   "execution_count": null,
   "metadata": {},
   "outputs": [],
   "source": []
  }
 ],
 "metadata": {
  "kernelspec": {
   "display_name": "Python 3",
   "language": "python",
   "name": "python3"
  },
  "language_info": {
   "codemirror_mode": {
    "name": "ipython",
    "version": 3
   },
   "file_extension": ".py",
   "mimetype": "text/x-python",
   "name": "python",
   "nbconvert_exporter": "python",
   "pygments_lexer": "ipython3",
   "version": "3.7.0"
  }
 },
 "nbformat": 4,
 "nbformat_minor": 2
}
